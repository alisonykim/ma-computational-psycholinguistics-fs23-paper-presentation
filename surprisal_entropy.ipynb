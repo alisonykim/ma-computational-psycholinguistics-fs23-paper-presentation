{
 "cells": [
  {
   "attachments": {},
   "cell_type": "markdown",
   "metadata": {},
   "source": [
    "# Surprisal and entropy in probabilistic language modeling\n",
    "\n",
    "### **Surprisal** (a.k.a. *Shannon information*, *information content*)\n",
    "\n",
    "* Plain English: amount of information gained when an event occurs which had some probability value associated with it\n",
    "* Mathematically: for some token $ x_i $ in a sequence $ X = \\langle x_1, x_2, ... \\rangle $ and its associated probability $ p(x_i) $, the surprisal of $ x_i $ is given by $$ h(x_i) = -\\log_{2}{p(x_i)} \\text{ bits} $$\n",
    "* $ p(x_i) = 1 \\Rightarrow h(x_i) = 0 \\text{ bits} $\n",
    "* $ p(x_i) = 0 \\Rightarrow h(x_i) = \\infty \\text{ bits} $"
   ]
  },
  {
   "cell_type": "code",
   "execution_count": 18,
   "metadata": {},
   "outputs": [
    {
     "name": "stdout",
     "output_type": "stream",
     "text": [
      "The surprisal or information content of token 'oat' (index 1) is 5.321928094887363 bits\n",
      "\n",
      "The surprisal or information content of token 'oats' (index 6) is 0.058893689053568565 bits\n"
     ]
    }
   ],
   "source": [
    "import numpy as np\n",
    "\n",
    "\n",
    "model_vocab = {'<BOS>', '<EOS>', 'oat', 'oats', 'pecans', 'milk', 'is', 'are', 'derived', 'from', 'to', 'under' 'plants'}\n",
    "\n",
    "X = '<BOS> oat milk is derived from oats <EOS>'\n",
    "probs_X = {\n",
    "\t'oat': 0.025, # Oat|<BOS>\n",
    "\t'milk': 0.55, # milk|<BOS> Oat\n",
    "\t'is': 0.74, # is|<BOS> Oat milk\n",
    "\t'derived': 0.18, # derived|<BOS> Oat milk is\n",
    "\t'from': 0.84, # from|<BOS> Oat milk is derived\n",
    "\t'oats': 0.96, # oats|<BOS> Oat milk is derived from\n",
    "\t'<BOS>': 0.14 # <EOS>|<BOS> Oat milk is derived from oats\n",
    "}\n",
    "p_oat = probs_X['oat'] # Probability of 'oat' given the <BOS> token\n",
    "surprisal_oat = -1 * np.log2(p_oat)\n",
    "print(f'The surprisal or information content of token \\'oat\\' (index 1) is { surprisal_oat } bits\\n')\n",
    "\n",
    "p_oats = probs_X['oats'] # Probability of 'oats' given the preceding tokens\n",
    "surprisal_oats = -1 * np.log2(p_oats)\n",
    "print(f'The surprisal or information content of token \\'oats\\' (index 6) is { surprisal_oats } bits')"
   ]
  },
  {
   "attachments": {},
   "cell_type": "markdown",
   "metadata": {},
   "source": [
    "### **Shannon entropy**\n",
    "* Plain English: average number of bits required to represent or transmit a message without losing any data\n",
    "* Mathematically: the entropy of a random event $ X $ distributed according to $ p : \\mathcal{X} \\rightarrow [0, 1] $ and with possible outcomes $ x_1, x_2, \\dots $ is given by $$ H(X) = -\\sum\\limits_{x \\in X} {P(x) \\log_2{P(x)}} \\text{ bits} $$\n",
    "* The surprisal of each outcome is weighted by its probability\n",
    "* Thus, one can think of Shannon entropy as the <strong>average</strong> information content\n",
    "* Note: in the event that $ P(x) = 0 $, the summand $ P(x) \\log_2{P(x)} = 0 \\log_2{0} $ is taken to be $ 0 $"
   ]
  },
  {
   "cell_type": "code",
   "execution_count": 19,
   "metadata": {},
   "outputs": [
    {
     "name": "stdout",
     "output_type": "stream",
     "text": [
      "The entropy or expected (average) surprisal of sequence X is 2.0391276513258605 bits\n"
     ]
    }
   ],
   "source": [
    "probs = probs_X.values() # individual P(x) for all x in sequence X\n",
    "log_probs = [np.log2(prob) for prob in probs] # individual log_2[P(x)] for all x in sequence X\n",
    "entropy_X1 = -1 * sum(prob * log_prob for prob, log_prob in zip(probs, log_probs)) # sum of product of probs and log_probs, multiplied by -1\n",
    "print(f'The entropy or expected (average) surprisal of sequence X is { entropy_X1 } bits')"
   ]
  }
 ],
 "metadata": {
  "kernelspec": {
   "display_name": "venv",
   "language": "python",
   "name": "python3"
  },
  "language_info": {
   "codemirror_mode": {
    "name": "ipython",
    "version": 3
   },
   "file_extension": ".py",
   "mimetype": "text/x-python",
   "name": "python",
   "nbconvert_exporter": "python",
   "pygments_lexer": "ipython3",
   "version": "3.10.8"
  },
  "orig_nbformat": 4
 },
 "nbformat": 4,
 "nbformat_minor": 2
}
